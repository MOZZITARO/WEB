{
 "cells": [
  {
   "cell_type": "code",
   "execution_count": null,
   "id": "f1563a61",
   "metadata": {},
   "outputs": [
    {
     "name": "stdout",
     "output_type": "stream",
     "text": [
      "[2, 4, 6]\n"
     ]
    }
   ],
   "source": [
    "# Numpy 벡터화 연산과 비교하기 위한 list 예제\n",
    "my_list = [1, 2, 3]\n",
    "new_list = [x * 2 for x in my_list]\n",
    "print(new_list)"
   ]
  },
  {
   "cell_type": "code",
   "execution_count": null,
   "id": "9a5fcc8f",
   "metadata": {},
   "outputs": [
    {
     "name": "stdout",
     "output_type": "stream",
     "text": [
      "[2 4 6]\n"
     ]
    }
   ],
   "source": [
    "# 벡터화 연산 예제(1): 배열의 각 요소에 대해 반복문 없이 한 번에 연산 수행하는 방식\n",
    "# 사전설치 : pip install numpy\n",
    "import numpy as np\n",
    "my_array = np.array([1, 2, 3])\n",
    "new_array = my_array * 2\n",
    "print(new_array)"
   ]
  },
  {
   "cell_type": "code",
   "execution_count": 4,
   "id": "aeb67691",
   "metadata": {},
   "outputs": [
    {
     "name": "stdout",
     "output_type": "stream",
     "text": [
      "[12 14 16]\n"
     ]
    }
   ],
   "source": [
    "array = np.array([2, 4, 6])\n",
    "add = array + 10\n",
    "print(add)"
   ]
  },
  {
   "cell_type": "code",
   "execution_count": null,
   "id": "ba15786c",
   "metadata": {},
   "outputs": [],
   "source": [
    "# 벡터화 연산 예제(2)\n",
    "arr = np.array([1, 2, 3, 4, 5])  # NumPy 배열 생성\n",
    "result = arr + 10  # 모든 요소에 10을 더하기\n",
    "print(result)"
   ]
  },
  {
   "cell_type": "code",
   "execution_count": null,
   "id": "a7a4610e",
   "metadata": {},
   "outputs": [
    {
     "name": "stdout",
     "output_type": "stream",
     "text": [
      "[0 2 4 6 8]\n"
     ]
    }
   ],
   "source": [
    "# 시작, 종료, N단계\n",
    "arr = np.arange(0, 10, 2)\n",
    "print(arr)"
   ]
  },
  {
   "cell_type": "code",
   "execution_count": null,
   "id": "5f4eed2a",
   "metadata": {},
   "outputs": [
    {
     "name": "stdout",
     "output_type": "stream",
     "text": [
      "[[0.19172738 0.49659875 0.01893532]\n",
      " [0.18612069 0.17105524 0.18558142]\n",
      " [0.46796845 0.40695214 0.83786059]]\n"
     ]
    }
   ],
   "source": [
    "# 3행 3열 모양 : 균일 분포 따르는 난수표 생성\n",
    "arr = np.random.rand(3,3)\n",
    "print(arr)"
   ]
  },
  {
   "cell_type": "code",
   "execution_count": null,
   "id": "5e43e735",
   "metadata": {},
   "outputs": [
    {
     "name": "stdout",
     "output_type": "stream",
     "text": [
      "[[0.19172738 0.49659875 0.01893532 0.18612069 0.17105524 0.18558142\n",
      "  0.46796845 0.40695214 0.83786059]]\n"
     ]
    }
   ],
   "source": [
    "# 배열 모양 변경\n",
    "arr = arr.reshape(1,9)\n",
    "print(arr)"
   ]
  },
  {
   "cell_type": "code",
   "execution_count": null,
   "id": "612c0ccf",
   "metadata": {},
   "outputs": [],
   "source": [
    "npsum = np.sum([1,2,3])\n",
    "print(npsum)"
   ]
  },
  {
   "cell_type": "code",
   "execution_count": 10,
   "id": "da45cb96",
   "metadata": {},
   "outputs": [
    {
     "name": "stdout",
     "output_type": "stream",
     "text": [
      "2.0\n"
     ]
    }
   ],
   "source": [
    "mean = np.mean([1,2,3])\n",
    "print(mean)"
   ]
  },
  {
   "cell_type": "code",
   "execution_count": 11,
   "id": "394d9d4d",
   "metadata": {},
   "outputs": [
    {
     "name": "stdout",
     "output_type": "stream",
     "text": [
      "2.8284271247461903\n"
     ]
    }
   ],
   "source": [
    "#표준편차\n",
    "std = np.std([175, 177, 179, 181, 183])\n",
    "print(std)"
   ]
  },
  {
   "cell_type": "code",
   "execution_count": null,
   "id": "f52dbc05",
   "metadata": {},
   "outputs": [],
   "source": [
    "import numpy as np\n",
    "# 1부터 10까지의 숫자를 가진 배열 생성\n",
    "data = np.arange(1, 11)\n",
    "print(data)"
   ]
  },
  {
   "cell_type": "code",
   "execution_count": null,
   "id": "bc89d3ee",
   "metadata": {},
   "outputs": [
    {
     "name": "stdout",
     "output_type": "stream",
     "text": [
      "45\n"
     ]
    }
   ],
   "source": [
    "# 2차원 배열 생성\n",
    "data = np.array = ([1, 2, 3],\n",
    "                   [4, 5, 6],\n",
    "                   [7, 8, 9])\n",
    "add = np.sum(data)\n",
    "print(add)"
   ]
  },
  {
   "cell_type": "code",
   "execution_count": null,
   "id": "6cb3d53b",
   "metadata": {},
   "outputs": [],
   "source": [
    "# 합 계산\n",
    "sum_data = np.sum(data)\n",
    "print(\"합:\", sum_data)\n",
    "\n",
    "# 평균 계산\n",
    "mean_data = np.mean(data)\n",
    "print(\"평균:\", mean_data)\n",
    "\n",
    "# 표준편차 계산\n",
    "std_data = np.std(data)\n",
    "print(\"표준편차:\", std_data)"
   ]
  },
  {
   "cell_type": "code",
   "execution_count": null,
   "id": "fcdad737",
   "metadata": {},
   "outputs": [
    {
     "name": "stdout",
     "output_type": "stream",
     "text": [
      " 각 행의 합 :  [ 6 15 24]\n"
     ]
    }
   ],
   "source": [
    "# 가로로\n",
    "row_sum = np.sum(data, axis=1)\n",
    "print(\" 각 행의 합 : \", row_sum)"
   ]
  },
  {
   "cell_type": "code",
   "execution_count": null,
   "id": "949c6f3c",
   "metadata": {},
   "outputs": [
    {
     "name": "stdout",
     "output_type": "stream",
     "text": [
      " 각 행의 합 :  [12 15 18]\n"
     ]
    }
   ],
   "source": [
    "# 세로\n",
    "row_sum = np.sum(data, axis=0)\n",
    "print(\" 각 행의 합 : \", row_sum)"
   ]
  },
  {
   "cell_type": "code",
   "execution_count": null,
   "id": "a5b150ec",
   "metadata": {},
   "outputs": [
    {
     "name": "stdout",
     "output_type": "stream",
     "text": [
      "5.0\n"
     ]
    }
   ],
   "source": [
    "mean_all = np.mean(data)\n",
    "print(mean_all)\n",
    "# 45 / 9 "
   ]
  },
  {
   "cell_type": "code",
   "execution_count": null,
   "id": "771f4792",
   "metadata": {},
   "outputs": [
    {
     "name": "stdout",
     "output_type": "stream",
     "text": [
      "[2. 5. 8.]\n"
     ]
    }
   ],
   "source": [
    "# 각 행의 평균\n",
    "mean_row = np.mean(data, axis=1)\n",
    "print(mean_row)"
   ]
  },
  {
   "cell_type": "code",
   "execution_count": null,
   "id": "80cdcccc",
   "metadata": {},
   "outputs": [
    {
     "name": "stdout",
     "output_type": "stream",
     "text": [
      "[4. 5. 6.]\n"
     ]
    }
   ],
   "source": [
    "# 각 열의 평균\n",
    "mean_row = np.mean(data, axis=0)\n",
    "print(mean_row)"
   ]
  },
  {
   "cell_type": "code",
   "execution_count": null,
   "id": "415ba767",
   "metadata": {},
   "outputs": [],
   "source": [
    "# 전체 요소의 표준편차\n",
    "std_all = np.std(data)\n",
    "print(\"전체 요소의 표준편차:\", std_all)"
   ]
  },
  {
   "cell_type": "code",
   "execution_count": null,
   "id": "b2692205",
   "metadata": {},
   "outputs": [
    {
     "name": "stdout",
     "output_type": "stream",
     "text": [
      "[2.44948974 2.44948974 2.44948974]\n"
     ]
    }
   ],
   "source": [
    "# 각 열의 표준편차\n",
    "mean_row = np.std(data, axis=0)\n",
    "print(mean_row)"
   ]
  },
  {
   "cell_type": "code",
   "execution_count": null,
   "id": "166d8e3b",
   "metadata": {},
   "outputs": [
    {
     "name": "stdout",
     "output_type": "stream",
     "text": [
      "[2. 5. 8.]\n"
     ]
    }
   ],
   "source": [
    "# 각 행의 표준편차\n",
    "mean_row = np.mean(data, axis=1)\n",
    "print(mean_row)"
   ]
  },
  {
   "cell_type": "code",
   "execution_count": null,
   "id": "2f09d197",
   "metadata": {},
   "outputs": [],
   "source": [
    "# 1차원 배열 생성\n",
    "arr1 = np.array([1, 2, 3, 4, 5])\n",
    "# 2차원 배열 생성\n",
    "arr2 = np.array([[1, 2, 3],\n",
    "                [4, 5, 6]])"
   ]
  },
  {
   "cell_type": "code",
   "execution_count": null,
   "id": "1279173f",
   "metadata": {},
   "outputs": [],
   "source": [
    "# 배열의 shape 확인\n",
    "print(arr2.shape)"
   ]
  },
  {
   "cell_type": "code",
   "execution_count": null,
   "id": "761a85d9",
   "metadata": {},
   "outputs": [],
   "source": [
    "# 특정 요소에 접근\n",
    "print(arr2[1, 2])   # 두 번째 행, 세 번째 열\n",
    "\n",
    "# 슬라이싱\n",
    "print(arr2[:, 1])  # 모든 행의 두 번째 열\n",
    "\n",
    "# 특정 요소에 접근\n",
    "print(arr2[0][1])  # 첫 번째 행의 두 번째 요소(특정 위치의 값을 가져올 때)"
   ]
  }
 ],
 "metadata": {
  "kernelspec": {
   "display_name": ".venv",
   "language": "python",
   "name": "python3"
  },
  "language_info": {
   "codemirror_mode": {
    "name": "ipython",
    "version": 3
   },
   "file_extension": ".py",
   "mimetype": "text/x-python",
   "name": "python",
   "nbconvert_exporter": "python",
   "pygments_lexer": "ipython3",
   "version": "3.10.6"
  }
 },
 "nbformat": 4,
 "nbformat_minor": 5
}
