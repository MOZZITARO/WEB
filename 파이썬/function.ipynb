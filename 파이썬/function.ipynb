{
 "cells": [
  {
   "cell_type": "code",
   "execution_count": 1,
   "id": "aa062b1e",
   "metadata": {},
   "outputs": [
    {
     "name": "stdout",
     "output_type": "stream",
     "text": [
      "hello world\n"
     ]
    }
   ],
   "source": [
    "print(\"hello world\")"
   ]
  },
  {
   "cell_type": "code",
   "execution_count": 2,
   "id": "c49a5fd7",
   "metadata": {},
   "outputs": [
    {
     "name": "stdout",
     "output_type": "stream",
     "text": [
      "리스트의 길이는 5입니다.\n"
     ]
    }
   ],
   "source": [
    "my_list = [1, 2, 3, 4 ,5]\n",
    "list_length = len(my_list)\n",
    "print(f\"리스트의 길이는 {list_length}입니다.\")"
   ]
  },
  {
   "cell_type": "code",
   "execution_count": 3,
   "id": "767d2982",
   "metadata": {},
   "outputs": [
    {
     "name": "stdout",
     "output_type": "stream",
     "text": [
      "튜플의 길이는 3입니다.\n"
     ]
    }
   ],
   "source": [
    "my_tuple = (10, 20, 30)\n",
    "tuple_length = len(my_tuple)\n",
    "print(f\"튜플의 길이는 {tuple_length}입니다.\")"
   ]
  },
  {
   "cell_type": "code",
   "execution_count": null,
   "id": "c6e5e023",
   "metadata": {},
   "outputs": [
    {
     "name": "stdout",
     "output_type": "stream",
     "text": [
      "'Hello, world!'의 길이는 13입니다.\n"
     ]
    }
   ],
   "source": [
    "#len함수를 사용하지 않고 문자길이 구하기\n",
    "def my_len(text):\n",
    "    count = 0\n",
    "    for _ in text:  # _는 값 저장X 단순 반복 횟수수\n",
    "        count += 1\n",
    "    return count\n",
    "    \n",
    "my_string = \"Hello, world!\"\n",
    "length = my_len(my_string)\n",
    "print(f\"'{my_string}'의 길이는 {length}입니다.\")"
   ]
  },
  {
   "cell_type": "code",
   "execution_count": null,
   "id": "582a30ec",
   "metadata": {},
   "outputs": [
    {
     "name": "stdout",
     "output_type": "stream",
     "text": [
      "8\n"
     ]
    }
   ],
   "source": [
    "def add(a,b):\n",
    "    # 전달인자를 넣으면\n",
    "    # a + b이다.\n",
    "    return a + b\n",
    "result = add(3,5)\n",
    "# return 반환값\n",
    "print(result)"
   ]
  },
  {
   "cell_type": "code",
   "execution_count": 13,
   "id": "f1309b85",
   "metadata": {},
   "outputs": [
    {
     "name": "stdout",
     "output_type": "stream",
     "text": [
      "안녕하세요\n"
     ]
    }
   ],
   "source": [
    "def greet():\n",
    "    print(\"안녕하세요\")\n",
    "greet()"
   ]
  },
  {
   "cell_type": "code",
   "execution_count": 31,
   "id": "244e8a64",
   "metadata": {},
   "outputs": [
    {
     "name": "stdout",
     "output_type": "stream",
     "text": [
      "24\n"
     ]
    }
   ],
   "source": [
    "def multiple(*args):\n",
    "    result = 1\n",
    "    #들어오는 args마다 num에 반복\n",
    "    for num in args:\n",
    "     result *= num\n",
    "    return result \n",
    "\n",
    "print(multiple(2, 3, 4))"
   ]
  },
  {
   "cell_type": "code",
   "execution_count": 33,
   "id": "810cc153",
   "metadata": {},
   "outputs": [
    {
     "name": "stdout",
     "output_type": "stream",
     "text": [
      "로그인 성공\n"
     ]
    }
   ],
   "source": [
    "def logincheck(id, password):\n",
    "    if id == \"admin\" and password == \"1234\":\n",
    "        return \"로그인 성공\"\n",
    "    else:\n",
    "        return \"로그인 실패\"\n",
    "print(logincheck(\"admin\", \"1234\"))"
   ]
  },
  {
   "cell_type": "code",
   "execution_count": 38,
   "id": "ba19ce89",
   "metadata": {},
   "outputs": [
    {
     "name": "stdout",
     "output_type": "stream",
     "text": [
      "9\n"
     ]
    }
   ],
   "source": [
    "def find_max(numbers):\n",
    "    #리스트에서 최대값을 찾는 함수\n",
    "    \n",
    "    max_num = numbers[0]\n",
    "    for num in numbers:\n",
    "        if num > max_num:\n",
    "            max_num = num\n",
    "    return max_num\n",
    "\n",
    "numbers = [1, 5, 3, 9, 2]\n",
    "print(find_max(numbers))"
   ]
  },
  {
   "cell_type": "code",
   "execution_count": null,
   "id": "5e9df219",
   "metadata": {},
   "outputs": [],
   "source": [
    "#주어진 범위 내의 짝수만 반환하는 함수\n",
    "def get_even_numbers(start, end):\n",
    "    even_nums = [] # 초기값 설정 # \"반환할 리스트\"\n",
    "    for num in range(start, end+1): # 주어진 범위내 \n",
    "        if num % 2 == 0: # \"짝수라면\"\n",
    "            even_nums.append(num) # \"리스트에 num값 추가\"\n",
    "    return even_nums\n",
    "print(get_even_numbers(1, 10))"
   ]
  },
  {
   "cell_type": "code",
   "execution_count": null,
   "id": "049efe50",
   "metadata": {},
   "outputs": [
    {
     "name": "stdout",
     "output_type": "stream",
     "text": [
      "1개월 차:  200,000원 저축\n",
      "2개월 차:  400,000원 저축\n",
      "3개월 차:  600,000원 저축\n",
      "4개월 차:  800,000원 저축\n",
      "5개월 차:  1,000,000원 저축\n",
      "5개월 만에 목표 금액 달성!\n"
     ]
    }
   ],
   "source": [
    "# 목표 금액 모을 때까지 저축하는 시뮬레이션 함수\n",
    "def saving_simulation(target_amount, monthly_saving):\n",
    "      total = 0 # 전체\n",
    "      months = 0 # 월\n",
    "            #지금까지 넣은 금액이 < 목표금액보다 적다면\n",
    "      while total < target_amount:\n",
    "          total += monthly_saving\n",
    "          months += 1\n",
    "          print(f\"{months}개월 차: {total: ,}원 저축\")\n",
    "      return f\"{months}개월 만에 목표 금액 달성!\"\n",
    "print(saving_simulation(1000000, 200000))"
   ]
  },
  {
   "cell_type": "code",
   "execution_count": 42,
   "id": "7b3e61b9",
   "metadata": {},
   "outputs": [
    {
     "name": "stdout",
     "output_type": "stream",
     "text": [
      "[10, 20, 30, 40, 50]\n",
      "[0.0, 0.25, 0.5, 0.75, 1.0]\n"
     ]
    }
   ],
   "source": [
    "#데이터 정규화 함수 (정규화 : 서로 다른 범위 값들을 비교할 때, 값들을 동일한 기준으로 맞춤)\n",
    "def normalize_data(numbers):\n",
    "    #데이터를 0~1 사이의 값으로 정규화하는 함수\n",
    "    #정규화 = (값 - 최소값) / (최대값 - 최소값)\n",
    "    #매개변수: \n",
    "    #numbers : 정규화할 숫자 리스트\n",
    "    #반환값:\n",
    "    #정규화된 데이터 리스트 (0~1 사이의 값\n",
    "    \n",
    "    min_value = min(numbers) #데이터의 최소값\n",
    "    max_value = max(numbers) #데이터의 최대값\n",
    "    normalized = [] #저장할 리스트\n",
    "    \n",
    "    #num 변수에 전달인자 \n",
    "    for num in numbers:\n",
    "        # 정규화 공식 적용\n",
    "        norm_values = (num - min_value) / (max_value - min_value)\n",
    "        normalized.append(norm_values)\n",
    "    return normalized\n",
    "\n",
    "data = [10, 20, 30, 40, 50]\n",
    "print(data)\n",
    "normal = normalize_data(data)\n",
    "print(normal)\n",
    "        \n",
    "    \n",
    "    \n",
    "    "
   ]
  },
  {
   "cell_type": "code",
   "execution_count": null,
   "id": "e8998677",
   "metadata": {},
   "outputs": [
    {
     "name": "stdout",
     "output_type": "stream",
     "text": [
      "the quick brown fox jumps over the lazy dog\n",
      "['the', 'quick', 'brown', 'fox', 'jumps', 'over', 'the', 'lazy', 'dog']\n",
      "the\n",
      "2\n",
      "{'the': 1}\n",
      "{'the': 1, 'quick': 1}\n",
      "{'the': 1, 'quick': 1, 'brown': 1}\n",
      "{'the': 1, 'quick': 1, 'brown': 1, 'fox': 1}\n",
      "{'the': 1, 'quick': 1, 'brown': 1, 'fox': 1, 'jumps': 1}\n",
      "{'the': 1, 'quick': 1, 'brown': 1, 'fox': 1, 'jumps': 1, 'over': 1}\n",
      "{'the': 2, 'quick': 1, 'brown': 1, 'fox': 1, 'jumps': 1, 'over': 1}\n",
      "{'the': 2, 'quick': 1, 'brown': 1, 'fox': 1, 'jumps': 1, 'over': 1, 'lazy': 1}\n",
      "{'the': 2, 'quick': 1, 'brown': 1, 'fox': 1, 'jumps': 1, 'over': 1, 'lazy': 1, 'dog': 1}\n",
      "문장을 입력하세요: the quick brown fox jumps over the lazy dog\n"
     ]
    }
   ],
   "source": [
    "def count_words():\n",
    "    \n",
    "    sentence = input(\"문장을 입력하세요\")\n",
    "    print(sentence)\n",
    "    div = sentence.split()\n",
    "    print(div)\n",
    "    \n",
    "    print(div[0])\n",
    "    print(div.count(div[0]))\n",
    "    \n",
    "    \n",
    "    DICT = {}\n",
    "    for i in div:\n",
    "        if i in DICT: \n",
    "           DICT[i] += 1\n",
    "        else:\n",
    "           DICT[i] = 1\n",
    "        print(DICT)\n",
    "    \n",
    "     \n",
    "    \n",
    "    return sentence \n",
    "    \n",
    "\n",
    "\n",
    "\n",
    "\n",
    "\n",
    "wh = \"문장을 입력하세요: \" + count_words() \n",
    "print(wh)"
   ]
  },
  {
   "cell_type": "code",
   "execution_count": null,
   "id": "2a25a4fc",
   "metadata": {},
   "outputs": [],
   "source": []
  },
  {
   "cell_type": "code",
   "execution_count": null,
   "id": "05916257",
   "metadata": {},
   "outputs": [],
   "source": []
  }
 ],
 "metadata": {
  "kernelspec": {
   "display_name": ".venv",
   "language": "python",
   "name": "python3"
  },
  "language_info": {
   "codemirror_mode": {
    "name": "ipython",
    "version": 3
   },
   "file_extension": ".py",
   "mimetype": "text/x-python",
   "name": "python",
   "nbconvert_exporter": "python",
   "pygments_lexer": "ipython3",
   "version": "3.10.6"
  }
 },
 "nbformat": 4,
 "nbformat_minor": 5
}
