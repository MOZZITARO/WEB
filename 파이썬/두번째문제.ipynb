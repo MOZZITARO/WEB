{
 "cells": [
  {
   "cell_type": "code",
   "execution_count": null,
   "id": "03993860",
   "metadata": {},
   "outputs": [
    {
     "name": "stdout",
     "output_type": "stream",
     "text": [
      "['the', 'quick', 'brown', 'fox', 'jumps', 'over', 'the', 'lazy', 'dog']\n",
      "9\n",
      "the\n",
      "2\n",
      "{'the': 1}\n",
      "{'the': 1, 'quick': 1}\n",
      "{'the': 1, 'quick': 1, 'brown': 1}\n",
      "{'the': 1, 'quick': 1, 'brown': 1, 'fox': 1}\n",
      "{'the': 1, 'quick': 1, 'brown': 1, 'fox': 1, 'jumps': 1}\n",
      "{'the': 1, 'quick': 1, 'brown': 1, 'fox': 1, 'jumps': 1, 'over': 1}\n",
      "{'the': 2, 'quick': 1, 'brown': 1, 'fox': 1, 'jumps': 1, 'over': 1}\n",
      "{'the': 2, 'quick': 1, 'brown': 1, 'fox': 1, 'jumps': 1, 'over': 1, 'lazy': 1}\n",
      "{'the': 2, 'quick': 1, 'brown': 1, 'fox': 1, 'jumps': 1, 'over': 1, 'lazy': 1, 'dog': 1}\n",
      "문장을 입력하세요: the quick brown fox jumps over the lazy dog\n"
     ]
    }
   ],
   "source": [
    "def count_words(sentence):\n",
    "    \n",
    "    \n",
    "    \n",
    "    div = sentence.split()\n",
    "    print(div)\n",
    "    # 총 단어수 = 갯수\n",
    "    print(len(div))\n",
    "    \n",
    "    print(div[0])\n",
    "    print(div.count(div[0]))\n",
    "    \n",
    "    \n",
    "    \n",
    "    \n",
    "    DICT = {}\n",
    "    for i in div:\n",
    "        \n",
    "        if i in DICT: \n",
    "           DICT[i] += 1\n",
    "        else:\n",
    "           DICT[i] = 1\n",
    "        print(DICT)\n",
    "    \n",
    "    \"\"\"\n",
    "    \n",
    "    dicStr = {}\n",
    "\n",
    "    for i in splitStr:\n",
    "        count = 0\n",
    "        for j in splitStr:\n",
    "            if i == j:\n",
    "                count += 1\n",
    "\n",
    "        dicStr[i] = count\n",
    "        \n",
    "    \"\"\"\n",
    "     \n",
    "    \n",
    "    return sentence \n",
    "    \n",
    "\n",
    "\n",
    "\n",
    "\n",
    "sentence = input(\"문장을 입력하세요\")\n",
    "wh = \"문장을 입력하세요: \" + count_words(sentence) \n",
    "print(wh)"
   ]
  },
  {
   "cell_type": "code",
   "execution_count": null,
   "id": "dde3514b",
   "metadata": {},
   "outputs": [],
   "source": []
  }
 ],
 "metadata": {
  "kernelspec": {
   "display_name": ".venv",
   "language": "python",
   "name": "python3"
  },
  "language_info": {
   "codemirror_mode": {
    "name": "ipython",
    "version": 3
   },
   "file_extension": ".py",
   "mimetype": "text/x-python",
   "name": "python",
   "nbconvert_exporter": "python",
   "pygments_lexer": "ipython3",
   "version": "3.10.6"
  }
 },
 "nbformat": 4,
 "nbformat_minor": 5
}
