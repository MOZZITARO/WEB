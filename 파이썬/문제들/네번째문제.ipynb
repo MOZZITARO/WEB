{
 "cells": [
  {
   "cell_type": "code",
   "execution_count": null,
   "id": "60a55489",
   "metadata": {},
   "outputs": [
    {
     "name": "stdout",
     "output_type": "stream",
     "text": [
      "invalid operator\n",
      "None\n"
     ]
    }
   ],
   "source": [
    "    \"\"\"1. 주요 내용\n",
    "두 개의 숫자를 입력받고, 사칙 연산(덧셈, 뺄셈, 곱셈, 나눗셈) 중 하나를 선택하여 결과를 반환하는 파이썬 함수 calculate(num1, num2, operator)를 작성하세요.\n",
    "num1: 첫 번째 숫자 (float)\n",
    "num2: 두 번째 숫자 (float)\n",
    "operator: 연산자 (+, -, *, /) (str)\n",
    "연산 결과 (float)\n",
    "유효하지 않은 연산자인 경우 \"Invalid operator\" 문자열 반환\n",
    "두 번째 숫자가 0이고 나눗셈을 시도하는 경우 \"Division by zero\" 문자열 반환\n",
    "2. 메시지 출력\n",
    "1번 문제에서 작성한 calculate 함수를 사용하여, 사용자로부터 두 개의 숫자와 연산자를 입력받고, calculate 함수를 호출하여 결과를 출력하는 프로그램을 작성하세요.\n",
    "\"첫 번째 숫자를 입력하세요: \" 메시지를 출력하고 사용자로부터 첫 번째 숫자를 입력받습니다.\n",
    "\"두 번째 숫자를 입력하세요: \" 메시지를 출력하고 사용자로부터 두 번째 숫자를 입력받습니다.\n",
    "\"연산자를 선택하세요 (+, -, *, /): \" 메시지를 출력하고 사용자로부터 연산자를 입력받습니다.\n",
    "calculate 함수의 반환 값을 \"결과: \" 메시지와 함께 출력합니다.\n",
    "    \"\"\"\n",
    "    \n",
    "def cal(num1, num2, op):\n",
    "    \n",
    "    if op == \"+\":\n",
    "     return float(num1 + num2)\n",
    "    if op == \"-\":\n",
    "     return float(num1 - num2)\n",
    "    if op == \"*\":\n",
    "     return float(num1 * num2)\n",
    "    if op == \"/\":\n",
    "    #  if num1 == 0 or num2 == 0:\n",
    "        if num2 == 0:\n",
    "         print(\"Division by zero\")   \n",
    "        return float(num1 / num2) \n",
    "    else:\n",
    "        print(\"invalid operator\") \n",
    "        return None  # 잘못된 연산자일 때 None을 반환하거나 오류 메시지를 추가합니다.\n",
    "    \n",
    "    \n",
    "    \n",
    "    \n",
    "    \n",
    "    \n",
    "num1 = float(input(\"첫번째 숫자를 입력하세요\"))\n",
    "op = input(\"연산자를 선택하세요\")\n",
    "num2 = float(input(\"두번째 숫자를 입력하세요\"))\n",
    "result = cal(num1, num2, op)\n",
    "print(result)"
   ]
  }
 ],
 "metadata": {
  "kernelspec": {
   "display_name": "Python 3",
   "language": "python",
   "name": "python3"
  },
  "language_info": {
   "codemirror_mode": {
    "name": "ipython",
    "version": 3
   },
   "file_extension": ".py",
   "mimetype": "text/x-python",
   "name": "python",
   "nbconvert_exporter": "python",
   "pygments_lexer": "ipython3",
   "version": "3.10.6"
  }
 },
 "nbformat": 4,
 "nbformat_minor": 5
}
