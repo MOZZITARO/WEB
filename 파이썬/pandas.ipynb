{
 "cells": [
  {
   "cell_type": "code",
   "execution_count": 9,
   "id": "656c0afa",
   "metadata": {},
   "outputs": [
    {
     "name": "stdout",
     "output_type": "stream",
     "text": [
      "        이름  나이 성별\n",
      "A    Alice  25  여\n",
      "B      Bob  30  남\n",
      "C  Charlie  22  남\n"
     ]
    }
   ],
   "source": [
    "import pandas as pd\n",
    "\n",
    "#데이터 프레임\n",
    "data = {'이름': ['Alice', 'Bob', 'Charlie'], '나이': [25, 30, 22], '성별': ['여', '남', '남']}\n",
    "df = pd.DataFrame(data, index=['A', 'B', 'C'])  # 행 인덱스를 지정\n",
    "\n",
    "print(df)"
   ]
  },
  {
   "cell_type": "code",
   "execution_count": 25,
   "id": "2013b24d",
   "metadata": {},
   "outputs": [
    {
     "name": "stdout",
     "output_type": "stream",
     "text": [
      "이름    Alice\n",
      "나이       25\n",
      "성별        여\n",
      "Name: A, dtype: object\n"
     ]
    }
   ],
   "source": [
    "# 행만 선택\n",
    "first_row = df.iloc[0]\n",
    "print(first_row)"
   ]
  },
  {
   "cell_type": "code",
   "execution_count": 27,
   "id": "b0136c9f",
   "metadata": {},
   "outputs": [
    {
     "name": "stdout",
     "output_type": "stream",
     "text": [
      "A      Alice\n",
      "B        Bob\n",
      "C    Charlie\n",
      "Name: 이름, dtype: object\n"
     ]
    }
   ],
   "source": [
    "# 열만 선택\n",
    "second_colum = df.iloc[:, 0]\n",
    "print(second_colum)"
   ]
  },
  {
   "cell_type": "code",
   "execution_count": 29,
   "id": "c4a18950",
   "metadata": {},
   "outputs": [
    {
     "name": "stdout",
     "output_type": "stream",
     "text": [
      "      이름  나이 성별\n",
      "A  Alice  25  여\n"
     ]
    }
   ],
   "source": [
    "subset = df.iloc[0:1]\n",
    "print(subset)"
   ]
  },
  {
   "cell_type": "code",
   "execution_count": 11,
   "id": "712256eb",
   "metadata": {},
   "outputs": [
    {
     "name": "stdout",
     "output_type": "stream",
     "text": [
      "A      Alice\n",
      "B        Bob\n",
      "C    Charlie\n",
      "Name: 이름, dtype: object\n",
      "이름    Alice\n",
      "나이       25\n",
      "성별        여\n",
      "Name: A, dtype: object\n",
      "      이름  나이 성별\n",
      "A  Alice  25  여\n",
      "B    Bob  30  남\n"
     ]
    }
   ],
   "source": [
    "name_column = df.loc[:, '이름']\n",
    "print(name_column)\n",
    "\n",
    "first_row = df.loc['A']\n",
    "print(first_row)\n",
    "\n",
    "selected_rows = df.loc[df['나이'] >= 25]\n",
    "print(selected_rows)"
   ]
  }
 ],
 "metadata": {
  "kernelspec": {
   "display_name": ".venv",
   "language": "python",
   "name": "python3"
  },
  "language_info": {
   "codemirror_mode": {
    "name": "ipython",
    "version": 3
   },
   "file_extension": ".py",
   "mimetype": "text/x-python",
   "name": "python",
   "nbconvert_exporter": "python",
   "pygments_lexer": "ipython3",
   "version": "3.10.6"
  }
 },
 "nbformat": 4,
 "nbformat_minor": 5
}
