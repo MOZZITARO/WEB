{
 "cells": [
  {
   "cell_type": "code",
   "execution_count": 6,
   "id": "eb5a5b5e",
   "metadata": {},
   "outputs": [
    {
     "name": "stdout",
     "output_type": "stream",
     "text": [
      "멍멍이가 짖습니다\n"
     ]
    }
   ],
   "source": [
    "\n",
    "class Dog:\n",
    "    \n",
    "  def __init__(self, name):\n",
    "     self.name = name      # 초기화\n",
    "    \n",
    "  def bark(self):    \n",
    "     print(f\"{self.name}가 짖습니다\") \n",
    "     \n",
    "     \n",
    "my_dog = Dog(\"멍멍이\")\n",
    "my_dog.bark()"
   ]
  },
  {
   "cell_type": "code",
   "execution_count": null,
   "id": "8abc77d0",
   "metadata": {},
   "outputs": [
    {
     "name": "stdout",
     "output_type": "stream",
     "text": [
      "나비\n",
      "나비가 야옹하고 웁니다.\n",
      "미야\n",
      "미야가 야옹하고 웁니다.\n"
     ]
    }
   ],
   "source": [
    "#1\n",
    "class Animal:\n",
    "    #2\n",
    "    def __init__(self, name):\n",
    "        self.name = name\n",
    "    def speak(self):\n",
    "        pass\n",
    "    \n",
    "class Cat(Animal):\n",
    "    def speak(self):\n",
    "        return f\"{self.name}가 야옹하고 웁니다.\"\n",
    "\n",
    "cat1 = Cat(\"나비\")\n",
    "print(cat1.name)\n",
    "print(cat1.speak())\n",
    "\n",
    "cat2 = Cat(\"미야\")\n",
    "print(cat2.name)\n",
    "print(cat2.speak())"
   ]
  },
  {
   "cell_type": "code",
   "execution_count": null,
   "id": "937605ce",
   "metadata": {},
   "outputs": [
    {
     "name": "stdout",
     "output_type": "stream",
     "text": [
      "200\n"
     ]
    }
   ],
   "source": [
    "class BankAccount:\n",
    "    def __init__(self):\n",
    "        self.__balance = 0\n",
    "        \n",
    "    def deposit(self, amount):\n",
    "        if amount > 0:\n",
    "            self.__balance += amount          \n",
    "    \n",
    "    def get_balance(self):\n",
    "        return self.__balance\n",
    "    \n",
    "account = BankAccount()\n",
    "account.deposit(100)\n",
    "account.deposit(100)\n",
    "print(account.get_balance())\n",
    "#print(account_balance()) 메서드아닌 직접 접근 불가"
   ]
  },
  {
   "cell_type": "code",
   "execution_count": 5,
   "id": "3a34d822",
   "metadata": {},
   "outputs": [
    {
     "name": "stdout",
     "output_type": "stream",
     "text": [
      "파이썬 고등학교\n",
      "2\n",
      "파이썬 고등학교\n",
      "파이썬 고등학교\n"
     ]
    }
   ],
   "source": [
    "class Student:\n",
    "    school_name = \"파이썬 고등학교\"\n",
    "    student_count = 0\n",
    "    \n",
    "    def __init__(self, name):\n",
    "        self.name = name\n",
    "        Student.student_count += 1\n",
    "        \n",
    "student1 = Student(\"김철수\")\n",
    "student2 = Student(\"김영희\")\n",
    "\n",
    "print(Student.school_name)\n",
    "print(Student.student_count)\n",
    "print(student1.school_name)\n",
    "print(student2.school_name)\n"
   ]
  },
  {
   "cell_type": "code",
   "execution_count": 4,
   "id": "f90088b5",
   "metadata": {},
   "outputs": [
    {
     "name": "stdout",
     "output_type": "stream",
     "text": [
      "계산기를 초기화합니다\n",
      "5\n",
      "30\n"
     ]
    }
   ],
   "source": [
    "class Calculator:\n",
    "    def __init__ (self):\n",
    "        print(\"계산기를 초기화합니다\")\n",
    "        \n",
    "# 두 숫자를 더하는 메서드\n",
    "    def add(self, a, b):\n",
    "     return a + b\n",
    "    def multiply(self, a, b):\n",
    "     return a * b\n",
    " \n",
    "calc = Calculator()\n",
    "print(calc.add(2, 3))\n",
    "print(calc.multiply(5, 6))"
   ]
  },
  {
   "cell_type": "code",
   "execution_count": 3,
   "id": "4f0a14a8",
   "metadata": {},
   "outputs": [
    {
     "name": "stdout",
     "output_type": "stream",
     "text": [
      "어벤져스영화의 할인된 가격: 10000원\n"
     ]
    }
   ],
   "source": [
    "class MovieTicket:\n",
    "    def __init__(self, title, price):\n",
    "        self.title = title\n",
    "        self.price = price\n",
    "    \n",
    "    #할인 적용 메서드\n",
    "    def apply_discount(self, discount):\n",
    "        self.price -= discount\n",
    "        print(f\"{self.title}영화의 할인된 가격: {self.price}원\")\n",
    "        \n",
    "ticket = MovieTicket(\"어벤져스\", 12000)\n",
    "ticket.apply_discount(2000)"
   ]
  },
  {
   "cell_type": "code",
   "execution_count": 2,
   "id": "da6031c9",
   "metadata": {},
   "outputs": [
    {
     "name": "stdout",
     "output_type": "stream",
     "text": [
      "이름: 김철수, 나이:18\n",
      "이름: 홍길동, 나이:20\n"
     ]
    }
   ],
   "source": [
    "class Student:\n",
    "    # __init__ (self, ? , ?)\n",
    "    # self : 클래스 지칭 그 자체\n",
    "    def __init__(self, name, age):\n",
    "        self.name = name\n",
    "        self.age = age\n",
    "    \n",
    "    def display_info(self):\n",
    "        print(f\"이름: {self.name}, 나이:{self.age}\")\n",
    "        \n",
    " #객체 생성 및 메서드 호출\n",
    "student1 = Student(\"김철수\", 18)\n",
    "student2 = Student(\"홍길동\", 20)\n",
    "    \n",
    "student1.display_info()\n",
    "student2.display_info()    \n",
    "    "
   ]
  }
 ],
 "metadata": {
  "kernelspec": {
   "display_name": ".venv",
   "language": "python",
   "name": "python3"
  },
  "language_info": {
   "codemirror_mode": {
    "name": "ipython",
    "version": 3
   },
   "file_extension": ".py",
   "mimetype": "text/x-python",
   "name": "python",
   "nbconvert_exporter": "python",
   "pygments_lexer": "ipython3",
   "version": "3.10.6"
  }
 },
 "nbformat": 4,
 "nbformat_minor": 5
}
