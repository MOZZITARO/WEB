{
 "cells": [
  {
   "cell_type": "code",
   "execution_count": 3,
   "id": "d77abeb8",
   "metadata": {},
   "outputs": [
    {
     "name": "stdout",
     "output_type": "stream",
     "text": [
      "Hello python\n"
     ]
    }
   ],
   "source": [
    "print(\"Hello python\")"
   ]
  },
  {
   "cell_type": "code",
   "execution_count": 1,
   "id": "c4d86321",
   "metadata": {},
   "outputs": [
    {
     "name": "stdout",
     "output_type": "stream",
     "text": [
      "10 -20\n"
     ]
    }
   ],
   "source": [
    "num1 = 10\n",
    "num2 = -20\n",
    "print(num1, num2)"
   ]
  },
  {
   "cell_type": "code",
   "execution_count": 3,
   "id": "b4fcdcc0",
   "metadata": {},
   "outputs": [
    {
     "name": "stdout",
     "output_type": "stream",
     "text": [
      "S\n",
      "S\n",
      "TE\n",
      "TEST\n",
      "TS\n"
     ]
    }
   ],
   "source": [
    "text = \"TEST\"\n",
    "print(text[2])\n",
    "print(text[-2])\n",
    "print(text[:2])\n",
    "print(text[::1])\n",
    "print(text[::2])"
   ]
  },
  {
   "cell_type": "code",
   "execution_count": null,
   "id": "52524866",
   "metadata": {},
   "outputs": [
    {
     "name": "stdout",
     "output_type": "stream",
     "text": [
      "baseball\n",
      "6\n"
     ]
    }
   ],
   "source": [
    "text = \"BASEBALL\"\n",
    "print(text.lower())\n",
    "print(text.find('L'))"
   ]
  },
  {
   "cell_type": "code",
   "execution_count": null,
   "id": "e46ad864",
   "metadata": {},
   "outputs": [
    {
     "name": "stdout",
     "output_type": "stream",
     "text": [
      "PYTHON IS AWESOME \n",
      "PYTHON IS AWESOME\n",
      "['PYTHON', 'IS', 'AWESOME']\n",
      " APAYATAHAOANA AIASA AAAWAEASAOAMAEA \n"
     ]
    }
   ],
   "source": [
    "text = \" PYTHON IS AWESOME \"\n",
    "print(text.lstrip())\n",
    "print(text.strip())\n",
    "print(text.split())\n",
    "text2 = 'A'.join(text)\n",
    "#공백에 문자 JOIN\n",
    "print(text2)"
   ]
  },
  {
   "cell_type": "code",
   "execution_count": 15,
   "id": "2865356a",
   "metadata": {},
   "outputs": [
    {
     "name": "stdout",
     "output_type": "stream",
     "text": [
      "my name is \n",
      "minbang and \\27 years \told\n"
     ]
    }
   ],
   "source": [
    "name = \"minbang\"\n",
    "age = \"27\"\n",
    "print(f\"my name is \\n{name} and \\\\{age} years \\told\")"
   ]
  },
  {
   "cell_type": "code",
   "execution_count": 30,
   "id": "f5e8f5f4",
   "metadata": {},
   "outputs": [
    {
     "name": "stdout",
     "output_type": "stream",
     "text": [
      "hts/wwpto.r/onod/idw/\n"
     ]
    }
   ],
   "source": [
    "adress = \"https://www.python.org/downloads/windows/\"\n",
    "print(adress[::2])"
   ]
  },
  {
   "cell_type": "code",
   "execution_count": 34,
   "id": "5b0a1a28",
   "metadata": {},
   "outputs": [
    {
     "name": "stdout",
     "output_type": "stream",
     "text": [
      "접근 허용\n"
     ]
    }
   ],
   "source": [
    "authorized = True\n",
    "unauthorized = False\n",
    "if authorized or unauthorized:\n",
    "    print(\"접근 허용\")\n",
    "else:\n",
    "    print(\"접근 불가\")"
   ]
  },
  {
   "cell_type": "code",
   "execution_count": null,
   "id": "9e0dabef",
   "metadata": {},
   "outputs": [
    {
     "name": "stdout",
     "output_type": "stream",
     "text": [
      "[0, 1, 2, 3, 4, 5, 8]\n",
      "[0, 1, 2, 4, 5, 8]\n",
      "3\n",
      "1\n",
      "[0, 1, 2, 4, 5, 8]\n",
      "[0, 1, 2, 4, 5, 8, 1, 7, 9]\n",
      "[0, 1, 2, 4, 5, 8, 1, 7, 9, 10, 11, 12]\n"
     ]
    }
   ],
   "source": [
    "numbers = [4, 1, 5, 8, 0, 2]\n",
    "numbers.append(3)\n",
    "numbers.sort()\n",
    "#기본 : 작은 수부터\n",
    "print(numbers)\n",
    "\n",
    "pop_item = numbers.pop(3)\n",
    "print(numbers)\n",
    "print(pop_item)\n",
    "\n",
    "count = numbers.count(5)\n",
    "#5라는 값이 몇번 들어갔는지 카운트.\n",
    "print(count)\n",
    "\n",
    "new_numbers = numbers.copy()\n",
    "print(new_numbers)\n",
    "\n",
    "numbers.extend([1, 7, 9])\n",
    "#변수 필요없이 리스트 확장하기\n",
    "print(numbers)\n",
    "\n",
    "another_list = [10, 11, 12]\n",
    "combined_list = numbers + another_list \n",
    "print(combined_list)"
   ]
  },
  {
   "cell_type": "code",
   "execution_count": 62,
   "id": "003a2e67",
   "metadata": {},
   "outputs": [
    {
     "name": "stdout",
     "output_type": "stream",
     "text": [
      "(1, 2, 3, 4, 5)\n",
      "4\n",
      "3\n"
     ]
    }
   ],
   "source": [
    "my_tuple = (1, 2, 3, 4, 5)\n",
    "#my_tuple[0] = 10 \n",
    "print(my_tuple)\n",
    "print(my_tuple.index(5))\n",
    "#5의 인덱스는 몇번인가??\n",
    "print(my_tuple[2])\n",
    "#2번째 인덱스는 무슨값인가??"
   ]
  },
  {
   "cell_type": "code",
   "execution_count": null,
   "id": "71d2031c",
   "metadata": {},
   "outputs": [
    {
     "name": "stdout",
     "output_type": "stream",
     "text": [
      "[6, 7, 8, 9, 10]\n",
      "[55, 7, 8, 9, 10]\n"
     ]
    }
   ],
   "source": [
    "List = [6, 7, 8, 9, 10]\n",
    "print(List)\n",
    "List[0] = 55\n",
    "print(List)"
   ]
  },
  {
   "cell_type": "code",
   "execution_count": 75,
   "id": "ccf45eed",
   "metadata": {},
   "outputs": [
    {
     "name": "stdout",
     "output_type": "stream",
     "text": [
      "Trout\n",
      "Freed\n",
      "Trout\n",
      "dict_keys(['Angles', 'Mets', 'SF', 'Yankees'])\n",
      "dict_values(['Trout', 'Lindor', 'Jung hoo lee', 'Freed'])\n"
     ]
    }
   ],
   "source": [
    "DICT = {\"Angles\" : \"Trout\", \"Mets\" : \"Lindor\", \"SF\" : \"Jung hoo lee\", \"Yankees\" : \"Rodon\"}\n",
    "print(DICT[\"Angles\"])\n",
    "#키값을 표시해야 함\n",
    "DICT[\"Yankees\"] = \"Freed\"\n",
    "print(DICT[\"Yankees\"])\n",
    "print(DICT.get(\"Angles\"))\n",
    "print(DICT.keys())\n",
    "print(DICT.values())"
   ]
  },
  {
   "cell_type": "code",
   "execution_count": 90,
   "id": "a818ac78",
   "metadata": {},
   "outputs": [
    {
     "name": "stdout",
     "output_type": "stream",
     "text": [
      "A학점\n"
     ]
    }
   ],
   "source": [
    "grade = int(input(\"숫자를 입력해주세요\"))\n",
    "if 100 >= grade >= 90:\n",
    "   print(\"A학점\")\n",
    "elif 80 <= grade < 90:\n",
    "    print(\"B학점\")\n",
    "elif 70 <= grade < 80:\n",
    "    print(\"C학점\")\n",
    "elif 60 <= grade < 70:\n",
    "    print(\"D학점\")    \n",
    "elif 0 < grade < 60:\n",
    "    print(\"F학점\") \n",
    "else:\n",
    "    print(\"잘못된 점수입니다\")"
   ]
  },
  {
   "cell_type": "code",
   "execution_count": null,
   "id": "362b47f4",
   "metadata": {},
   "outputs": [
    {
     "name": "stdout",
     "output_type": "stream",
     "text": [
      "0으로 나눌 수 없습니다\n"
     ]
    }
   ],
   "source": [
    "\n",
    "\n",
    "\n",
    "while True:\n",
    "    num1 = input(\"숫자를 입력해주세요\")\n",
    "    if num1 == \"q\":\n",
    "        break\n",
    " \n",
    "    op = input(\"연산자를 입력해주세요\")\n",
    "    if op == \"q\":\n",
    "        break\n",
    "    \n",
    "    num2 = input(\"숫자를 입력해주세요\")\n",
    "    if num2 == \"q\":\n",
    "        break\n",
    "    \n",
    "    if op == \"+\":\n",
    "        print(int(num1) + int(num2))\n",
    "    if op == \"-\":\n",
    "        print(int(num1) - int(num2))\n",
    "    if op == \"*\":\n",
    "        print(int(num1) * int(num2))\n",
    "    if op == \"/\":\n",
    "    \n",
    "        if int(num2) == 0 or int(num1) == 0:\n",
    "            print(\"0으로 나눌 수 없습니다\")  \n",
    "             \n",
    "        else:   \n",
    "            print(int(num1) / int(num2))\n",
    "        \n",
    "            \n",
    "    else:\n",
    "        print(\"잘못된 연산자입니다\")  \n",
    "          \n",
    "    \n",
    "          \n",
    "   \n",
    "       \n",
    "      \n",
    "              \n",
    "       \n",
    "            \n",
    "           \n",
    "    \n",
    "         \n",
    "\n"
   ]
  },
  {
   "cell_type": "code",
   "execution_count": null,
   "id": "24a9dd1a",
   "metadata": {},
   "outputs": [
    {
     "name": "stdout",
     "output_type": "stream",
     "text": [
      "2\n",
      "4\n",
      "6\n",
      "8\n",
      "10\n"
     ]
    }
   ],
   "source": [
    "numbers = [1, 2, 3, 4, 5]\n",
    "#반복문\n",
    "for num in numbers:\n",
    "    print(num * 2)"
   ]
  },
  {
   "cell_type": "code",
   "execution_count": null,
   "id": "2e65c903",
   "metadata": {},
   "outputs": [],
   "source": []
  }
 ],
 "metadata": {
  "kernelspec": {
   "display_name": ".venv",
   "language": "python",
   "name": "python3"
  },
  "language_info": {
   "codemirror_mode": {
    "name": "ipython",
    "version": 3
   },
   "file_extension": ".py",
   "mimetype": "text/x-python",
   "name": "python",
   "nbconvert_exporter": "python",
   "pygments_lexer": "ipython3",
   "version": "3.10.6"
  }
 },
 "nbformat": 4,
 "nbformat_minor": 5
}
