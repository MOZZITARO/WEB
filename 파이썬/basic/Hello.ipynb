{
 "cells": [
  {
   "cell_type": "code",
   "execution_count": 3,
   "id": "d77abeb8",
   "metadata": {},
   "outputs": [
    {
     "name": "stdout",
     "output_type": "stream",
     "text": [
      "Hello python\n"
     ]
    }
   ],
   "source": [
    "print(\"Hello python\")"
   ]
  },
  {
   "cell_type": "code",
   "execution_count": 1,
   "id": "c4d86321",
   "metadata": {},
   "outputs": [
    {
     "name": "stdout",
     "output_type": "stream",
     "text": [
      "10 -20\n"
     ]
    }
   ],
   "source": [
    "num1 = 10\n",
    "num2 = -20\n",
    "print(num1, num2)"
   ]
  },
  {
   "cell_type": "code",
   "execution_count": 6,
   "id": "b4fcdcc0",
   "metadata": {},
   "outputs": [
    {
     "name": "stdout",
     "output_type": "stream",
     "text": [
      "S\n",
      "S\n",
      "TE\n",
      "TEST\n",
      "TS\n"
     ]
    }
   ],
   "source": [
    "text = \"TEST\"\n",
    "print(text[2])\n",
    "print(text[-2])\n",
    "print(text[0:2])\n",
    "print(text[::1])\n",
    "print(text[::2])"
   ]
  },
  {
   "cell_type": "code",
   "execution_count": null,
   "id": "52524866",
   "metadata": {},
   "outputs": [
    {
     "name": "stdout",
     "output_type": "stream",
     "text": [
      "baseball\n",
      "BASEBALL\n",
      "2\n",
      "0\n"
     ]
    }
   ],
   "source": [
    "text = \"Baseball\"\n",
    "print(text.lower())\n",
    "print(text.upper())\n",
    "# 특정 문자의 개수\n",
    "print(text.count('a'))\n",
    "# 특정 문자의 인덱스\n",
    "print(text.find('B'))"
   ]
  },
  {
   "cell_type": "code",
   "execution_count": null,
   "id": "e46ad864",
   "metadata": {},
   "outputs": [
    {
     "name": "stdout",
     "output_type": "stream",
     "text": [
      "PYTHON IS AWESOME \n",
      "PYTHON IS AWESOME\n",
      "['PYTHON', 'IS', 'AWESOME']\n",
      " APAYATAHAOANA AIASA AAAWAEASAOAMAEA \n"
     ]
    }
   ],
   "source": [
    "text = \" PYTHON IS AWESOME \"\n",
    "print(text.lstrip())\n",
    "# strip(): 문자열 양쪽 끝 공백 제거\n",
    "print(text.strip()) # !!!\n",
    "# split(): 특정 구분자로 문자열을 나누어 리스트로 반환\n",
    "print(text.split())\n",
    "# join(): 리스트의 문자열을 특정 구분자로 연결하여 하나의 문자열로 반환\n",
    "text2 = 'A'.join(text)\n",
    "#공백에 문자 JOIN\n",
    "print(text2)"
   ]
  },
  {
   "cell_type": "code",
   "execution_count": 15,
   "id": "2865356a",
   "metadata": {},
   "outputs": [
    {
     "name": "stdout",
     "output_type": "stream",
     "text": [
      "my name is \n",
      "minbang and \\27 years \told\n"
     ]
    }
   ],
   "source": [
    "name = \"minbang\"\n",
    "age = \"27\"\n",
    "print(f\"my name is \\n{name} and \\\\{age} years \\told\")"
   ]
  },
  {
   "cell_type": "code",
   "execution_count": null,
   "id": "f5e8f5f4",
   "metadata": {},
   "outputs": [
    {
     "name": "stdout",
     "output_type": "stream",
     "text": [
      "hts/wwpto.r/onod/idw/\n"
     ]
    }
   ],
   "source": [
    "# 두칸씩 건너뜀\n",
    "adress = \"https://www.python.org/downloads/windows/\"\n",
    "print(adress[::2])"
   ]
  },
  {
   "cell_type": "code",
   "execution_count": null,
   "id": "5b0a1a28",
   "metadata": {},
   "outputs": [
    {
     "name": "stdout",
     "output_type": "stream",
     "text": [
      "접근 허용\n"
     ]
    }
   ],
   "source": [
    "# 접근 허용 or 불가\n",
    "authorized = True\n",
    "unauthorized = False\n",
    "if authorized or unauthorized:\n",
    "    print(\"접근 허용\")\n",
    "else:\n",
    "    print(\"접근 불가\")"
   ]
  },
  {
   "cell_type": "code",
   "execution_count": null,
   "id": "9e0dabef",
   "metadata": {},
   "outputs": [
    {
     "name": "stdout",
     "output_type": "stream",
     "text": [
      "[0, 1, 2, 3, 4, 5, 8]\n",
      "[0, 1, 2, 4, 5, 8]\n",
      "3\n",
      "1\n",
      "[0, 1, 2, 4, 5, 8]\n",
      "[0, 1, 2, 4, 5, 8, 1, 7, 9]\n",
      "[0, 1, 2, 4, 5, 8, 1, 7, 9, 10, 11, 12]\n"
     ]
    }
   ],
   "source": [
    "\n",
    "# 리스트 = []\n",
    "numbers = [4, 1, 5, 8, 0, 2]\n",
    "numbers.append(3)\n",
    "# 요소 추가\n",
    "numbers.sort()\n",
    "# 요소 정렬\n",
    "#기본 : 작은 수부터\n",
    "print(numbers)\n",
    "\n",
    "numbers.remove(1)    #remove: 요소제거 함수\n",
    "print(numbers)\n",
    "\n",
    "pop_item = numbers.pop(3)\n",
    "print(numbers)\n",
    "print(pop_item)\n",
    "\n",
    "count = numbers.count(5)\n",
    "#5라는 값이 몇번 들어갔는지 카운트.\n",
    "print(count)\n",
    "\n",
    "numbers.reverse()    # reverse: 리스트 뒤집기\n",
    "print(numbers)\n",
    "\n",
    "new_numbers = numbers.copy()\n",
    "print(new_numbers)\n",
    "\n",
    "numbers.extend([1, 7, 9])\n",
    "#변수 필요없이 리스트 확장하기\n",
    "print(numbers)\n",
    "\n",
    "another_list = [10, 11, 12]\n",
    "combined_list = numbers + another_list \n",
    "print(combined_list)\n",
    "\n",
    "# 리스트 합치기 (concatenate)\n",
    "another_list = [10, 11, 12]\n",
    "combined_list = numbers + another_list\n",
    "print(combined_list)\n",
    "\n",
    "# insert(index, item)\n",
    "fruits = ['apple', 'cherry']\n",
    "fruits.insert(1, 'banana')\n",
    "print(fruits)"
   ]
  },
  {
   "cell_type": "code",
   "execution_count": null,
   "id": "003a2e67",
   "metadata": {},
   "outputs": [
    {
     "name": "stdout",
     "output_type": "stream",
     "text": [
      "(1, 2, 3, 4, 5)\n",
      "4\n",
      "(1, 2)\n",
      "1\n",
      "3\n"
     ]
    }
   ],
   "source": [
    "my_tuple = (1, 2, 3, 4, 5)\n",
    "#my_tuple[0] = 10 \n",
    "print(my_tuple)\n",
    "print(my_tuple.index(5))\n",
    "#5의 인덱스는 \"몇번\"인가??\n",
    "#인덱스로 접근\n",
    "\n",
    "print(my_tuple[0:2]) \n",
    "print(my_tuple.count(2))\n",
    "#2의 갯수세기\n",
    "\n",
    "print(my_tuple[2])\n",
    "#2번째 인덱스는 \"무슨값\"인가??\n",
    "#값으로 접근"
   ]
  },
  {
   "cell_type": "code",
   "execution_count": 5,
   "id": "71d2031c",
   "metadata": {},
   "outputs": [
    {
     "name": "stdout",
     "output_type": "stream",
     "text": [
      "6\n",
      "[6, 7]\n",
      "[6, 7, 8, 9, 10]\n",
      "[55, 7, 8, 9, 10]\n"
     ]
    }
   ],
   "source": [
    "List = [6, 7, 8, 9, 10]\n",
    "print(List[0])\n",
    "print(List[0:2])\n",
    "print(List)\n",
    "List[0] = 55\n",
    "print(List)"
   ]
  },
  {
   "cell_type": "code",
   "execution_count": null,
   "id": "ccf45eed",
   "metadata": {},
   "outputs": [
    {
     "name": "stdout",
     "output_type": "stream",
     "text": [
      "Trout\n",
      "Freed\n",
      "Trout\n",
      "dict_keys(['Angles', 'Mets', 'SF', 'Yankees'])\n",
      "dict_values(['Trout', 'Lindor', 'Jung hoo lee', 'Freed'])\n",
      "dict_items([('Angles', 'Trout'), ('Mets', 'Lindor'), ('SF', 'Jung hoo lee'), ('Yankees', 'Freed')])\n"
     ]
    }
   ],
   "source": [
    "# DICT = {}\n",
    "# 키를 통한 접근\n",
    "DICT = {\"Angles\" : \"Trout\", \"Mets\" : \"Lindor\", \"SF\" : \"Jung hoo lee\", \"Yankees\" : \"Rodon\"}\n",
    "print(DICT[\"Angles\"])\n",
    "\n",
    "#키 값을 수정\n",
    "DICT[\"Yankees\"] = \"Freed\"\n",
    "print(DICT[\"Yankees\"])\n",
    "\n",
    "# 키에 대응하는 값 반환\n",
    "print(DICT.get(\"Angles\"))\n",
    "\n",
    "# 모든 키를 반환(keys)\n",
    "print(DICT.keys())\n",
    "\n",
    "# 모든 값을 반환(values)\n",
    "print(DICT.values())\n",
    "\n",
    "# 모든 요소 반환\n",
    "print(DICT.items())"
   ]
  },
  {
   "cell_type": "code",
   "execution_count": null,
   "id": "a818ac78",
   "metadata": {},
   "outputs": [
    {
     "name": "stdout",
     "output_type": "stream",
     "text": [
      "A학점\n"
     ]
    }
   ],
   "source": [
    "grade = int(input(\"숫자를 입력해주세요\"))\n",
    "if 100 >= grade >= 90:\n",
    "   print(\"A학점\")\n",
    "elif 80 <= grade < 90:\n",
    "    print(\"B학점\")\n",
    "elif 70 <= grade < 80:\n",
    "    print(\"C학점\")\n",
    "elif 60 <= grade < 70:\n",
    "    print(\"D학점\")    \n",
    "elif 0 < grade < 60:\n",
    "    print(\"F학점\") \n",
    "else:\n",
    "    print(\"잘못된 점수입니다\")\n",
    "    \n",
    "    \n",
    "    #if문\n",
    "score = 85\n",
    "if score > 80:\n",
    "    print(\"테스트에 합격하셨습니다.\")\n",
    "\n",
    "number = 5\n",
    "if number % 2 == 0:\n",
    "    print(\"짝수입니다.\")\n",
    "else:\n",
    "    print(\"홀수입니다.\")\n",
    "\n",
    "# if - elif - else 문\n",
    "score = 85\n",
    "if score >= 90:\n",
    "    print(\"A학점\")\n",
    "elif score >= 80:\n",
    "    print(\"B학점\")\n",
    "else:\n",
    "    print(\"C학점\")\n",
    "    \n",
    "x, y = 10, 20\n",
    "if x > 5 and y < 30:\n",
    "    print(\"조건을 만족합니다.\")"
   ]
  },
  {
   "cell_type": "code",
   "execution_count": null,
   "id": "362b47f4",
   "metadata": {},
   "outputs": [
    {
     "name": "stdout",
     "output_type": "stream",
     "text": [
      "0으로 나눌 수 없습니다\n"
     ]
    }
   ],
   "source": [
    "\n",
    "\n",
    "\n",
    "while True:\n",
    "    num1 = input(\"숫자를 입력해주세요\")\n",
    "    if num1 == \"q\":\n",
    "        break\n",
    " \n",
    "    op = input(\"연산자를 입력해주세요\")\n",
    "    if op == \"q\":\n",
    "        break\n",
    "    \n",
    "    num2 = input(\"숫자를 입력해주세요\")\n",
    "    if num2 == \"q\":\n",
    "        break\n",
    "    \n",
    "    if op == \"+\":\n",
    "        print(int(num1) + int(num2))\n",
    "    if op == \"-\":\n",
    "        print(int(num1) - int(num2))\n",
    "    if op == \"*\":\n",
    "        print(int(num1) * int(num2))\n",
    "    if op == \"/\":\n",
    "    \n",
    "        if int(num2) == 0 or int(num1) == 0:\n",
    "            print(\"0으로 나눌 수 없습니다\")  \n",
    "             \n",
    "        else:   \n",
    "            print(int(num1) / int(num2))\n",
    "        \n",
    "            \n",
    "    else:\n",
    "        print(\"잘못된 연산자입니다\")  \n",
    "          \n",
    "    \n",
    "# While문\n",
    "\n",
    "i = 0\n",
    "while i < 10:\n",
    "  i = i + 1\n",
    "  print(i)\n",
    "\n",
    "count = 0\n",
    "while count < 5:\n",
    "    print(f\"Count: {count}\")\n",
    "    count += 1\n",
    "\n",
    "while True:\n",
    "    user_input = input(\"종료하려면 'exit' 입력:\")\n",
    "    if user_input == \"exit\":\n",
    "        break\n",
    "    \n",
    "x = 5\n",
    "while x > 0:\n",
    "    print(x)\n",
    "    x -= 1\n",
    "else:\n",
    "    print(\"반복 종료\")\n",
    "    \n",
    "\n",
    "# break & continue 사용\n",
    "n = 0\n",
    "while n < 10:\n",
    "    n += 1\n",
    "    if n % 2 == 0:\n",
    "        continue    # 짝수는 출력 건너뜀\n",
    "    print(n)\n",
    "    if n == 7:\n",
    "        break    # 7에서 반복 종료\n",
    "    \n",
    "    password = \"password123\"\n",
    "attempt = 0\n",
    "\n",
    "# 비밀번호 예제\n",
    "while attempt < 3:\n",
    "    user_password = input(\"비밀번호를 입력하세요: \")\n",
    "    attempt += 1\n",
    "    if user_password == password:\n",
    "        print(\"비밀번호가 일치합니다.\")\n",
    "        break\n",
    "    else:\n",
    "        print(\"비밀번호가 틀렸습니다.\")\n",
    "\n",
    "if attempt == 3:\n",
    "    print(\"비밀번호 입력 횟수를 초과했습니다.\")\n",
    "   \n",
    "       \n",
    "      \n",
    "              \n",
    "       \n",
    "            \n",
    "           \n",
    "    \n",
    "         \n",
    "\n"
   ]
  },
  {
   "cell_type": "code",
   "execution_count": null,
   "id": "24a9dd1a",
   "metadata": {},
   "outputs": [
    {
     "name": "stdout",
     "output_type": "stream",
     "text": [
      "2\n",
      "4\n",
      "6\n",
      "8\n",
      "10\n"
     ]
    }
   ],
   "source": [
    "numbers = [1, 2, 3, 4, 5]\n",
    "# num에 하나씩 넣기\n",
    "for num in numbers:\n",
    "    print(num * 2)\n",
    "    \n",
    "# for문\n",
    "numbers = [1, 2, 3, 4, 5]\n",
    "for num in numbers:\n",
    "    print(num * 2)\n",
    "    \n",
    "# range() 함수와 함께 사용 시 # 범위 내 전체 출력\n",
    "for i in range(1, 6):\n",
    "    print(f\"현재 값: {i}\")\n",
    "    \n",
    "for i in range(1, 4):\n",
    "    for j in range(1, 3):\n",
    "        print(f\"i:{i}, j:{j}\")\n",
    "\n",
    "# 값과 쌍\n",
    "# enumerate()와 함께 사용\n",
    "# enumerate 함수는 시퀀스(리스트, 튜플, 문자열 등)를 순회하면서 각 요소의 인덱스와 값을 튜플 형태로 함께 반환하는 유용한 내장 함수\n",
    "items = [\"A\", \"B\", \"C\"]\n",
    "for idx, item in enumerate(items):\n",
    "    print(f\"인덱스 {idx}:{item}\")\n",
    "\n",
    "# for문 안에 조건문\n",
    "for i in range(10):\n",
    "    if i % 2 == 0:\n",
    "        print(f\"{i}는 짝수입니다.\")\n",
    "        \n",
    "# zip()과 함께 사용\n",
    "names = [\"Alice\", \"Bob\", \"Charlie\"]\n",
    "scores = [85, 90, 78]\n",
    "for name, score in zip(names, scores):\n",
    "    print(f\"{name}: {score}\")"
   ]
  },
  {
   "cell_type": "code",
   "execution_count": null,
   "id": "6b065f9b",
   "metadata": {},
   "outputs": [],
   "source": [
    "# while\n",
    "\n",
    "count = 0\n",
    "while count < 5:\n",
    "  print(f\"Count: {count}\")\n",
    "  count += 1\n",
    "  \n",
    "# 무한루프 (ex. input조건)\n",
    "while True:\n",
    "    user_input = input(\"종료하려면 'exit' 입력: \")\n",
    "    if user_input == \"exit\":\n",
    "        break\n",
    "    \n",
    "# 조건 검사 후 반복\n",
    "number = 10\n",
    "while number > 0:\n",
    "    print(f\"현재 값: {number}\")\n",
    "    number -= 2\n",
    "    \n",
    "# 조건과 else 사용\n",
    "x = 5\n",
    "while x > 0:\n",
    "    print(x)\n",
    "    x -= 1\n",
    "else:\n",
    "    print(\"반복 종료\")\n",
    "    \n",
    "# 중첩 while문\n",
    "outer = 1\n",
    "while outer <= 3:\n",
    "    inner = 1\n",
    "    while inner <= 2:\n",
    "        print(f\"outer: {outer}, inner: {inner}\")\n",
    "        inner += 1\n",
    "    outer += 1\n",
    "    \n",
    "# break 와 continue\n",
    "n = 0\n",
    "while n < 10:\n",
    "    n += 1\n",
    "    if n % 2 == 0:\n",
    "        continue  # 짝수는 출력 건너뜀\n",
    "    print(n)\n",
    "    if n == 7:\n",
    "        break  # 7에서 반복 종료"
   ]
  },
  {
   "cell_type": "code",
   "execution_count": null,
   "id": "bc11c96e",
   "metadata": {},
   "outputs": [],
   "source": [
    "#String\n",
    "# lower() 문자열을 소문자로 변환\n",
    "text = \"Hello World\"\n",
    "print(text.lower())\n",
    "\n",
    "# upper() 문자열을 대문자로 변환\n",
    "text = \"Hello World\"\n",
    "print(text.upper())\n",
    "\n",
    "# strip([chars]) 양쪽 끝의 공백 또는 특정문자 제거\n",
    "text = \"  Hello World  \"\n",
    "print(text.strip())\n",
    "\n",
    "# replace(old, new, [count]) 특정 문자열을 다른 문자열로 치환\n",
    "text = \"banana\"\n",
    "print(text.replace(\"a\", \"o\"))\n",
    "\n",
    "# split([separator])  문자열을 구분자로 기준으로 분리하여 리스트로 반환\n",
    "text = \"apple,banana,cherry\"\n",
    "print(text.split(','))\n",
    "\n",
    "# join(iterable)  리스트나 튜플의 요소를 문자열로 결합\n",
    "fruits = ['apple', 'banana', 'cherry']\n",
    "print(', '.join(fruits))\n",
    "\n",
    "# find() 부분 문자열의 첫 번째 위치를 반환. 없으면 -1\n",
    "text = \"Hello World\"\n",
    "print(text.find(\"World\"))\n",
    "\n",
    "# startswith(prefix) / endswith(suffix) 문자열이 특정 접두사/접미사로 시작하거나 끝나는지 확인\n",
    "text = \"Hello World\"\n",
    "print(text.startswith(\"Hello\"))\n",
    "print(text.endswith(\"World\"))\n",
    "\n",
    "# isnumeric() 문자열이 숫자로만 구성되어 있는 지 확인\n",
    "text = \"12345\"\n",
    "print(text.isnumeric())\n",
    "\n",
    "# capitalize() 첫 번째 문자를 대문자로, 나머지는 소문자로 변환\n",
    "text = \"hello world\"\n",
    "print(text.capitalize())\n",
    "\n",
    "try:\n",
    "    result = 10 / 0\n",
    "except Exception as e:\n",
    "    print(f\"예외 발생: {e}\")"
   ]
  },
  {
   "cell_type": "code",
   "execution_count": null,
   "id": "d0984928",
   "metadata": {},
   "outputs": [],
   "source": [
    "numbers = [1,2,3,4]\n",
    "new_numbers = numbers\n",
    "\n",
    "new_numbers[0] = 10\n",
    "print(f\"numbers : {numbers}\")\n",
    "print(f\"new_numbers: {new_numbers}\")\n",
    "\n",
    "#2\n",
    "numbers = [1,2,3,4]\n",
    "new_numbers = numbers.copy()\n",
    "\n",
    "new_numbers[0] = 10\n",
    "print(f\"numbers : {numbers}\")\n",
    "print(f\"new_numbers: {new_numbers}\")\n",
    "\n",
    "# replace 함수 ('기존값', '변경값', 변경할 횟수)\n",
    "a = 'oxoxoxoxoxox'\n",
    "a.replace('ox','*',1)\n",
    "\n",
    "# len함수 예제 : 문자열 길이 구하기\n",
    "text = \"Hello, world!\"\n",
    "length = len(text)\n",
    "print(f\"문자열 '{text}'의 길이는 {length}입니다.\")\n",
    "\n",
    "# len함수 예제 : 리스트 길이 구하기\n",
    "my_list = [1, 2, 3, 4, 5]\n",
    "length = len(my_list)\n",
    "print(f\"리스트 '{my_list}'의 길이는 {length}입니다.\")\n",
    "\n",
    "# len함수 예제 : 튜플 길이 구하기\n",
    "my_tuple = (10, 20, 30)\n",
    "length = len(my_tuple)\n",
    "print(f\"튜플 '{my_tuple}'의 길이는 {length}입니다.\")"
   ]
  }
 ],
 "metadata": {
  "kernelspec": {
   "display_name": "Python 3",
   "language": "python",
   "name": "python3"
  },
  "language_info": {
   "codemirror_mode": {
    "name": "ipython",
    "version": 3
   },
   "file_extension": ".py",
   "mimetype": "text/x-python",
   "name": "python",
   "nbconvert_exporter": "python",
   "pygments_lexer": "ipython3",
   "version": "3.10.6"
  }
 },
 "nbformat": 4,
 "nbformat_minor": 5
}
