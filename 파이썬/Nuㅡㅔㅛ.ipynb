{
 "cells": [
  {
   "cell_type": "code",
   "execution_count": 1,
   "id": "f1563a61",
   "metadata": {},
   "outputs": [
    {
     "name": "stdout",
     "output_type": "stream",
     "text": [
      "[2, 4, 6]\n"
     ]
    }
   ],
   "source": [
    "my_list = [1, 2, 3]\n",
    "new_list = [x * 2 for x in my_list]\n",
    "print(new_list)"
   ]
  },
  {
   "cell_type": "code",
   "execution_count": 3,
   "id": "9a5fcc8f",
   "metadata": {},
   "outputs": [
    {
     "name": "stdout",
     "output_type": "stream",
     "text": [
      "[2 4 6]\n"
     ]
    }
   ],
   "source": [
    "import numpy as np\n",
    "my_array = np.array([1, 2, 3])\n",
    "new_array = my_array * 2\n",
    "print(new_array)"
   ]
  },
  {
   "cell_type": "code",
   "execution_count": 4,
   "id": "aeb67691",
   "metadata": {},
   "outputs": [
    {
     "name": "stdout",
     "output_type": "stream",
     "text": [
      "[12 14 16]\n"
     ]
    }
   ],
   "source": [
    "array = np.array([2, 4, 6])\n",
    "add = array + 10\n",
    "print(add)"
   ]
  },
  {
   "cell_type": "code",
   "execution_count": null,
   "id": "a7a4610e",
   "metadata": {},
   "outputs": [
    {
     "name": "stdout",
     "output_type": "stream",
     "text": [
      "[0 2 4 6 8]\n"
     ]
    }
   ],
   "source": [
    "# 시작, 종료, N단계\n",
    "arr = np.arange(0, 10, 2)\n",
    "print(arr)"
   ]
  },
  {
   "cell_type": "code",
   "execution_count": null,
   "id": "5f4eed2a",
   "metadata": {},
   "outputs": [
    {
     "name": "stdout",
     "output_type": "stream",
     "text": [
      "[[0.19172738 0.49659875 0.01893532]\n",
      " [0.18612069 0.17105524 0.18558142]\n",
      " [0.46796845 0.40695214 0.83786059]]\n"
     ]
    }
   ],
   "source": [
    "# 3행 3열 모양 : 균일 분포 따르는 난수표 생성\n",
    "arr = np.random.rand(3,3)\n",
    "print(arr)"
   ]
  },
  {
   "cell_type": "code",
   "execution_count": null,
   "id": "5e43e735",
   "metadata": {},
   "outputs": [
    {
     "name": "stdout",
     "output_type": "stream",
     "text": [
      "[[0.19172738 0.49659875 0.01893532 0.18612069 0.17105524 0.18558142\n",
      "  0.46796845 0.40695214 0.83786059]]\n"
     ]
    }
   ],
   "source": [
    "# 배열 모양 변경\n",
    "arr = arr.reshape(1,9)\n",
    "print(arr)"
   ]
  },
  {
   "cell_type": "code",
   "execution_count": null,
   "id": "612c0ccf",
   "metadata": {},
   "outputs": [],
   "source": [
    "npsum = np.sum([1,2,3])\n",
    "print(npsum)"
   ]
  },
  {
   "cell_type": "code",
   "execution_count": 10,
   "id": "da45cb96",
   "metadata": {},
   "outputs": [
    {
     "name": "stdout",
     "output_type": "stream",
     "text": [
      "2.0\n"
     ]
    }
   ],
   "source": [
    "mean = np.mean([1,2,3])\n",
    "print(mean)"
   ]
  },
  {
   "cell_type": "code",
   "execution_count": 11,
   "id": "394d9d4d",
   "metadata": {},
   "outputs": [
    {
     "name": "stdout",
     "output_type": "stream",
     "text": [
      "2.8284271247461903\n"
     ]
    }
   ],
   "source": [
    "#표준편차\n",
    "std = np.std([175, 177, 179, 181, 183])\n",
    "print(std)"
   ]
  },
  {
   "cell_type": "code",
   "execution_count": 14,
   "id": "bc89d3ee",
   "metadata": {},
   "outputs": [
    {
     "name": "stdout",
     "output_type": "stream",
     "text": [
      "45\n"
     ]
    }
   ],
   "source": [
    "data = np.array = ([1, 2, 3],\n",
    "                   [4, 5, 6],\n",
    "                   [7, 8, 9])\n",
    "add = np.sum(data)\n",
    "print(add)"
   ]
  },
  {
   "cell_type": "code",
   "execution_count": null,
   "id": "fcdad737",
   "metadata": {},
   "outputs": [
    {
     "name": "stdout",
     "output_type": "stream",
     "text": [
      " 각 행의 합 :  [ 6 15 24]\n"
     ]
    }
   ],
   "source": [
    "# 가로로\n",
    "row_sum = np.sum(data, axis=1)\n",
    "print(\" 각 행의 합 : \", row_sum)"
   ]
  },
  {
   "cell_type": "code",
   "execution_count": null,
   "id": "949c6f3c",
   "metadata": {},
   "outputs": [
    {
     "name": "stdout",
     "output_type": "stream",
     "text": [
      " 각 행의 합 :  [12 15 18]\n"
     ]
    }
   ],
   "source": [
    "# 세로\n",
    "row_sum = np.sum(data, axis=0)\n",
    "print(\" 각 행의 합 : \", row_sum)"
   ]
  },
  {
   "cell_type": "code",
   "execution_count": null,
   "id": "a5b150ec",
   "metadata": {},
   "outputs": [
    {
     "name": "stdout",
     "output_type": "stream",
     "text": [
      "5.0\n"
     ]
    }
   ],
   "source": [
    "mean_all = np.mean(data)\n",
    "print(mean_all)\n",
    "# 45 / 9 "
   ]
  },
  {
   "cell_type": "code",
   "execution_count": 25,
   "id": "771f4792",
   "metadata": {},
   "outputs": [
    {
     "name": "stdout",
     "output_type": "stream",
     "text": [
      "[2. 5. 8.]\n"
     ]
    }
   ],
   "source": [
    "mean_row = np.mean(data, axis=1)\n",
    "print(mean_row)"
   ]
  },
  {
   "cell_type": "code",
   "execution_count": 26,
   "id": "80cdcccc",
   "metadata": {},
   "outputs": [
    {
     "name": "stdout",
     "output_type": "stream",
     "text": [
      "[4. 5. 6.]\n"
     ]
    }
   ],
   "source": [
    "mean_row = np.mean(data, axis=0)\n",
    "print(mean_row)"
   ]
  },
  {
   "cell_type": "code",
   "execution_count": 27,
   "id": "b2692205",
   "metadata": {},
   "outputs": [
    {
     "name": "stdout",
     "output_type": "stream",
     "text": [
      "[2.44948974 2.44948974 2.44948974]\n"
     ]
    }
   ],
   "source": [
    "mean_row = np.std(data, axis=0)\n",
    "print(mean_row)"
   ]
  },
  {
   "cell_type": "code",
   "execution_count": 28,
   "id": "166d8e3b",
   "metadata": {},
   "outputs": [
    {
     "name": "stdout",
     "output_type": "stream",
     "text": [
      "[2. 5. 8.]\n"
     ]
    }
   ],
   "source": [
    "mean_row = np.mean(data, axis=1)\n",
    "print(mean_row)"
   ]
  }
 ],
 "metadata": {
  "kernelspec": {
   "display_name": ".venv",
   "language": "python",
   "name": "python3"
  },
  "language_info": {
   "codemirror_mode": {
    "name": "ipython",
    "version": 3
   },
   "file_extension": ".py",
   "mimetype": "text/x-python",
   "name": "python",
   "nbconvert_exporter": "python",
   "pygments_lexer": "ipython3",
   "version": "3.10.6"
  }
 },
 "nbformat": 4,
 "nbformat_minor": 5
}
