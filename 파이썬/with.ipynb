{
 "cells": [
  {
   "cell_type": "code",
   "execution_count": 17,
   "id": "11047ce4",
   "metadata": {},
   "outputs": [
    {
     "name": "stdout",
     "output_type": "stream",
     "text": [
      "c:\\Project\n",
      "['.venv', 'Calc.ipynb', 'EXAMPLE.text', 'EXAMPLE.txt', 'function.ipynb', 'Hello.ipynb', 'lambda.ipynb', 'test.py', 'with.ipynb', '두번째문제.ipynb']\n"
     ]
    }
   ],
   "source": [
    "#read #with문\n",
    "#경로를 못찾으면 절대경로 or 상대경로 변경\n",
    "with open('C:/project/EXAMPLE.text', 'a') as f: \n",
    "    f.write('안녕하세요.\\n')\n",
    "    f.write('with문 예시입니다.\\n')\n",
    "    \n",
    "import os \n",
    "print(os.getcwd())\n",
    "print(os.listdir())"
   ]
  },
  {
   "cell_type": "code",
   "execution_count": null,
   "id": "f6119f90",
   "metadata": {},
   "outputs": [
    {
     "name": "stdout",
     "output_type": "stream",
     "text": [
      "0 apple\n",
      "1 banana\n",
      "2 cherry\n"
     ]
    }
   ],
   "source": [
    "#enumerate 함수\n",
    "# 각 요소에 대해 \"(index, value)\"\n",
    "# 인덱스(index) + 요소(value)\n",
    "\n",
    "\n",
    "\n",
    "\n",
    "# SHIFT + L 라인넘버 표시\n",
    "# 튜플 : 자료형. 수정불가(오류발생)   /    변수 = ()\n",
    "fruits = ['apple', 'banana', 'cherry']\n",
    "for index, fruit in enumerate(fruits):\n",
    "    print(index, fruit)\n",
    "\n",
    "    "
   ]
  },
  {
   "cell_type": "code",
   "execution_count": null,
   "id": "30882ab0",
   "metadata": {},
   "outputs": [
    {
     "name": "stdout",
     "output_type": "stream",
     "text": [
      "[(1, 2), (2, 3), (3, 4)]\n"
     ]
    }
   ],
   "source": [
    "#zip 함수 : 같은 인덱스 요소를 \"튜플\"로 묶어서 \"새로운 리스트\"를 만듦\n",
    "list1 = [1, 2, 3]\n",
    "list2 = [2, 3 ,4]\n",
    "result = list(zip(list1, list2))\n",
    "print(result)"
   ]
  },
  {
   "cell_type": "code",
   "execution_count": null,
   "id": "1863ccc5",
   "metadata": {},
   "outputs": [
    {
     "name": "stdout",
     "output_type": "stream",
     "text": [
      "안녕하세요 이름은 Alice고 나이는 30입니다.\n",
      "안녕하세요 이름은 Alice입니다. 나이는 30입니다\n"
     ]
    }
   ],
   "source": [
    "# format 함수 : f- string (f\")과 유사\n",
    "name = \"Alice\"\n",
    "age = 30\n",
    "\n",
    "greeting = \"안녕하세요 이름은 {}고 나이는 {}입니다.\" .format (name, age)\n",
    "print(greeting) \n",
    "\n",
    "#둘이 양립해서 씀\n",
    "greet = f\"안녕하세요 이름은 {name}입니다. 나이는 {age}입니다\"\n",
    "print(greet)"
   ]
  }
 ],
 "metadata": {
  "kernelspec": {
   "display_name": ".venv",
   "language": "python",
   "name": "python3"
  },
  "language_info": {
   "codemirror_mode": {
    "name": "ipython",
    "version": 3
   },
   "file_extension": ".py",
   "mimetype": "text/x-python",
   "name": "python",
   "nbconvert_exporter": "python",
   "pygments_lexer": "ipython3",
   "version": "3.10.6"
  }
 },
 "nbformat": 4,
 "nbformat_minor": 5
}
