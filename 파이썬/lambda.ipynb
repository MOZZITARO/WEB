{
 "cells": [
  {
   "cell_type": "code",
   "execution_count": 2,
   "id": "bb3e2335",
   "metadata": {},
   "outputs": [
    {
     "name": "stdout",
     "output_type": "stream",
     "text": [
      "12\n"
     ]
    }
   ],
   "source": [
    "multiply = lambda x, y: x*y\n",
    "print(multiply(3,4))"
   ]
  },
  {
   "cell_type": "code",
   "execution_count": 4,
   "id": "f626799f",
   "metadata": {},
   "outputs": [
    {
     "name": "stdout",
     "output_type": "stream",
     "text": [
      "25\n"
     ]
    }
   ],
   "source": [
    "square = lambda x : x ** 2 #제곱\n",
    "print(square(5))"
   ]
  },
  {
   "cell_type": "code",
   "execution_count": 5,
   "id": "10829b5e",
   "metadata": {},
   "outputs": [
    {
     "name": "stdout",
     "output_type": "stream",
     "text": [
      "10\n"
     ]
    }
   ],
   "source": [
    "add = lambda a,b : a + b \n",
    "print(add(3,7))"
   ]
  },
  {
   "cell_type": "code",
   "execution_count": 6,
   "id": "50e1854c",
   "metadata": {},
   "outputs": [
    {
     "name": "stdout",
     "output_type": "stream",
     "text": [
      "짝수\n"
     ]
    }
   ],
   "source": [
    "check_even = lambda x: \"짝수\" if x % 2 == 0 else \"홀수\"\n",
    "print(check_even(4))"
   ]
  },
  {
   "cell_type": "code",
   "execution_count": 9,
   "id": "dc30b14f",
   "metadata": {},
   "outputs": [
    {
     "name": "stdout",
     "output_type": "stream",
     "text": [
      "[1, 2, 5, 9]\n",
      "[1, 2, 5, 9]\n"
     ]
    }
   ],
   "source": [
    "#sorted 사용 예제\n",
    "numbers = [5, 2, 9 ,1]\n",
    "sorted_numbers = sorted(numbers, key=lambda x: x)\n",
    "print(sorted_numbers)\n",
    "#sort 사용 예제\n",
    "numbers.sort(key=lambda x:x)\n",
    "print(numbers)"
   ]
  }
 ],
 "metadata": {
  "kernelspec": {
   "display_name": ".venv",
   "language": "python",
   "name": "python3"
  },
  "language_info": {
   "codemirror_mode": {
    "name": "ipython",
    "version": 3
   },
   "file_extension": ".py",
   "mimetype": "text/x-python",
   "name": "python",
   "nbconvert_exporter": "python",
   "pygments_lexer": "ipython3",
   "version": "3.10.6"
  }
 },
 "nbformat": 4,
 "nbformat_minor": 5
}
