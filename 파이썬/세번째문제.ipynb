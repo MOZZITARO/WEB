{
 "cells": [
  {
   "cell_type": "code",
   "execution_count": null,
   "id": "60a55489",
   "metadata": {},
   "outputs": [
    {
     "name": "stdout",
     "output_type": "stream",
     "text": [
      "5.0\n"
     ]
    }
   ],
   "source": [
    "def cal(num1, num2, op):\n",
    "    \n",
    "    if op == \"+\":\n",
    "     return float(num1 + num2)\n",
    "    if op == \"-\":\n",
    "     return float(num1 - num2)\n",
    "    if op == \"*\":\n",
    "     return float(num1 * num2)\n",
    "    if op == \"/\":\n",
    "     \n",
    "         \n",
    "     return float(num1 / num2) \n",
    "    \n",
    "    \n",
    "    \n",
    "    \n",
    "    \n",
    "    \n",
    "num1 = float(input(\"숫자를 입력하세요\"))\n",
    "op = input(\"연산자를 입력하세요\")\n",
    "num2 = float(input(\"숫자를 입력하세요\"))\n",
    "result = cal(num1, num2, op)\n",
    "print(result)"
   ]
  }
 ],
 "metadata": {
  "kernelspec": {
   "display_name": ".venv",
   "language": "python",
   "name": "python3"
  },
  "language_info": {
   "codemirror_mode": {
    "name": "ipython",
    "version": 3
   },
   "file_extension": ".py",
   "mimetype": "text/x-python",
   "name": "python",
   "nbconvert_exporter": "python",
   "pygments_lexer": "ipython3",
   "version": "3.10.6"
  }
 },
 "nbformat": 4,
 "nbformat_minor": 5
}
