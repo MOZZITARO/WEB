{
 "cells": [
  {
   "cell_type": "code",
   "execution_count": 1,
   "id": "0a20e673",
   "metadata": {},
   "outputs": [
    {
     "name": "stdout",
     "output_type": "stream",
     "text": [
      "0.6394267984578837\n",
      "[0.37454012 0.95071431 0.73199394]\n"
     ]
    }
   ],
   "source": [
    "import random\n",
    "import numpy as np\n",
    "\n",
    "random.seed(42)\n",
    "np.random.seed(42)\n",
    "\n",
    "random_number1 = random.random()\n",
    "numpy_array1 = np.random.rand(3)\n",
    "\n",
    "print(random_number1)\n",
    "print(numpy_array1)"
   ]
  },
  {
   "cell_type": "code",
   "execution_count": 3,
   "id": "ef32ac44",
   "metadata": {},
   "outputs": [
    {
     "name": "stdout",
     "output_type": "stream",
     "text": [
      "학습 데이터 크기: 3\n",
      "테스트 데이터 크기: 2\n",
      "모델 계수\n",
      "기울기(slope) 0.7857142857142857\n",
      "절편(먹을거아님): 1.5714285714285716\n",
      "테스트 세트 실제 값 [4 5]\n",
      "테스트 세트 예측 값 [3.14285714 5.5       ]\n",
      "모델 성능\n",
      "R2 점수: -0.9693877551020396\n",
      "평균 제곱 오차(MSE): 0.4923469387755099\n"
     ]
    }
   ],
   "source": [
    "import numpy as np\n",
    "from sklearn.linear_model import LinearRegression\n",
    "from sklearn.model_selection import train_test_split\n",
    "from sklearn.metrics import r2_score, mean_squared_error\n",
    "import random\n",
    "\n",
    "#데이터 준비\n",
    "X = np.array([[1], [2], [3], [4], [5]]) # 독립 변수\n",
    "y = np.array([2, 4, 5, 4, 5]) # 종속 변수\n",
    "\n",
    "#데이터 분할\n",
    "X_train, X_test, y_train, y_test = train_test_split(X, y, test_size=0.4, random_state=42)\n",
    "\n",
    "#모델 생성 및 학습\n",
    "model = LinearRegression()\n",
    "model.fit(X_train, y_train)\n",
    "\n",
    "#예측 및 평가\n",
    "predictions = model.predict(X_test)\n",
    "\n",
    "#결과 출력\n",
    "print(\"학습 데이터 크기:\", X_train.shape[0])\n",
    "print(\"테스트 데이터 크기:\", X_test.shape[0])\n",
    "print(\"모델 계수\")\n",
    "print(\"기울기(slope)\", model.coef_[0])\n",
    "\n",
    "print(\"절편(먹을거아님):\", model.intercept_)\n",
    "print(\"테스트 세트 실제 값\", y_test)\n",
    "print(\"테스트 세트 예측 값\", predictions)\n",
    "print(\"모델 성능\")\n",
    "print(\"R2 점수:\", r2_score(y_test, predictions))\n",
    "print(\"평균 제곱 오차(MSE):\", mean_squared_error(y_test, predictions))\n",
    "\n"
   ]
  },
  {
   "cell_type": "code",
   "execution_count": 8,
   "id": "312bb200",
   "metadata": {},
   "outputs": [
    {
     "name": "stdout",
     "output_type": "stream",
     "text": [
      "회귀 계수\n",
      "공부 시간: 4.87\n",
      "과외 시간: 1.94\n",
      "절편: 53.39\n"
     ]
    }
   ],
   "source": [
    "import numpy as np\n",
    "from sklearn.linear_model import LinearRegression\n",
    "\n",
    "\n",
    "# 샘플 데이터\n",
    "# 공부 시간과 과외시간에 따른 시험점수 예측\n",
    "study_hours = np.array([2, 3, 4, 5, 4, 6, 7, 8, 5, 4]) #하루 공부 시간\n",
    "tutor_hours = np.array([0, 1, 0, 2, 1, 3, 2, 3, 2, 1]) #주간 공부 시간\n",
    "test_scores = np.array([60, 70, 75, 85, 75, 90, 92, 95, 80, 75]) #시험점수\n",
    "\n",
    "# 입력 데이터 맞추기\n",
    "X = np.column_stack((study_hours, tutor_hours))\n",
    "\n",
    "y = test_scores\n",
    "\n",
    "# 모델 생성 및 학습\n",
    "model = LinearRegression()\n",
    "model.fit(X, y)\n",
    "\n",
    "# 결과 출력\n",
    "print(\"회귀 계수\")\n",
    "print(f\"공부 시간: {model.coef_[0]:.2f}\")\n",
    "print(f\"과외 시간: {model.coef_[1]:.2f}\")\n",
    "print(f\"절편: {model.intercept_:.2f}\")\n"
   ]
  },
  {
   "cell_type": "code",
   "execution_count": 16,
   "id": "b549d527",
   "metadata": {},
   "outputs": [
    {
     "name": "stdout",
     "output_type": "stream",
     "text": [
      "회귀 계수:\n",
      "X1: 1.7882\n",
      "X2: 2.9284\n",
      "X3: 1.5135\n",
      "절편: 0.1535\n",
      "R-squared 값: 0.9566\n"
     ]
    },
    {
     "data": {
      "image/png": "[encoded data removed]",
      "text/plain": [
       "<Figure size 1000x600 with 1 Axes>"
      ]
     },
     "metadata": {},
     "output_type": "display_data"
    },
    {
     "name": "stdout",
     "output_type": "stream",
     "text": [
      "\n",
      "새로운 데이터 예측값: 3.2192\n"
     ]
    },
    {
     "name": "stderr",
     "output_type": "stream",
     "text": [
      "c:\\Project\\.venv\\lib\\site-packages\\sklearn\\utils\\validation.py:2739: UserWarning: X does not have valid feature names, but LinearRegression was fitted with feature names\n",
      "  warnings.warn(\n"
     ]
    }
   ],
   "source": [
    "import numpy as np\n",
    "import pandas as pd\n",
    "from sklearn.model_selection import train_test_split\n",
    "from sklearn.linear_model import LinearRegression\n",
    "from sklearn.metrics import mean_squared_error, r2_score\n",
    "import matplotlib.pyplot as plt\n",
    "\n",
    "#폰트 지정\n",
    "plt.rcParams['font.family'] = 'Malgun Gothic'\n",
    "\n",
    "#마이너스 부호 깨짐 지정\n",
    "plt.rcParams['axes.unicode_minus'] = False\n",
    "\n",
    "#숫자가 지수표현식으로 나올때 지정\n",
    "pd.options.display.float_format = '{:.2f}'.format\n",
    "\n",
    "#샘플 데이터 생성\n",
    "np.random.seed(42)\n",
    "n_samples = 100 #난수 크기\n",
    "\n",
    "#독립변수 생성\n",
    "X1 = np.random.normal(0, 1, n_samples) #(평균, 표준편차, 생성할 난수 크기)\n",
    "X2 = np.random.normal(0, 1, n_samples)\n",
    "X3 = np.random.normal(0, 1, n_samples)\n",
    "\n",
    "#종속변수 생성 (Y = 2X1 + 3X2 + 1.5X3 + 오차)\n",
    "Y = 2 * X1 + 3 * X2 + 1.5 * X3 + np.random.normal(0, 1, n_samples)\n",
    "\n",
    "#데이터프레임 생성 \n",
    "data = pd.DataFrame({\n",
    "  'X1' : X1,\n",
    "  'X2' : X2,\n",
    "  'X3' : X3,\n",
    "  'Y': Y  \n",
    "})\n",
    "  \n",
    "  \n",
    "# 학습용과 테스트용 데이터 분리\n",
    "X = data[['X1', 'X2', 'X3']]  \n",
    "y = data['Y']\n",
    "X_train, X_test, y_train, y_test = train_test_split(X, y, test_size=0.2, random_state=42)\n",
    "\n",
    "# 모델 학습\n",
    "model = LinearRegression()\n",
    "model.fit(X_train, y_train)\n",
    "\n",
    "# 예측\n",
    "y_pred = model.predict(X_test)\n",
    "\n",
    "# 결과 출력\n",
    "print(\"회귀 계수:\")\n",
    "for feature, coef in zip(X.columns, model.coef_):\n",
    "  print(f\"{feature}: {coef:.4f}\")\n",
    "print(f\"절편: {model.intercept_:.4f}\")\n",
    "print(f\"R-squared 값: {r2_score(y_test, y_pred):.4f}\")\n",
    "\n",
    "\n",
    "# 실제값과 예측값 비교 시각화\n",
    "plt.figure(figsize=(10,6))\n",
    "plt.grid(True)\n",
    "plt.scatter(y_test, y_pred, color='blue', alpha=0.5)\n",
    "plt.plot([-4, 4], [-4, 4], 'r--')\n",
    "plt.grid(True)\n",
    "plt.title('실제값 VS 예측값')\n",
    "plt.xlabel('실제값')\n",
    "plt.ylabel('예측값')\n",
    "plt.show()\n",
    "\n",
    "# 새로운 데이터로 예측 예시\n",
    "new_data = np.array([[0.5, 1.0, -0.5]])\n",
    "prediction = model.predict(new_data)\n",
    "print(f\"\\n새로운 데이터 예측값: {prediction[0]:.4f}\")"
   ]
  }
 ],
 "metadata": {
  "kernelspec": {
   "display_name": ".venv",
   "language": "python",
   "name": "python3"
  },
  "language_info": {
   "codemirror_mode": {
    "name": "ipython",
    "version": 3
   },
   "file_extension": ".py",
   "mimetype": "text/x-python",
   "name": "python",
   "nbconvert_exporter": "python",
   "pygments_lexer": "ipython3",
   "version": "3.10.6"
  }
 },
 "nbformat": 4,
 "nbformat_minor": 5
}
